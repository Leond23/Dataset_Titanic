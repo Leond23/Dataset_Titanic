{
 "cells": [
  {
   "cell_type": "code",
   "execution_count": 6,
   "id": "30858076-d9df-4d77-8d70-0581b5e4abf2",
   "metadata": {},
   "outputs": [],
   "source": [
    "# ANÁLISIS DE DATOS - (202016908A_70)\n",
    "# Leonardo Neira Diaz\n",
    "\n",
    "# Este código de Python utiliza tres librerías: pandas, numpy y matplotlib \n",
    "# para trabajar con un conjunto de datos y generar visualizaciones."
   ]
  },
  {
   "cell_type": "code",
   "execution_count": 7,
   "id": "880622c8-e9fd-46e4-86dc-c4ce527e9ff9",
   "metadata": {},
   "outputs": [],
   "source": [
    "# El código comienza importando las librerías necesarias: pandas, numpy y matplotlib, \n",
    "# y se les asignan los alias \"pd\", \"np\" y \"plt\" respectivamente.\n",
    "import pandas as pd \n",
    "# La librería pandas se utiliza para trabajar con estructuras de datos como DataFrames y Series.\n",
    "import numpy as np \n",
    "# La librería numpy se utiliza para realizar operaciones numéricas en arreglos y matrices.\n",
    "import matplotlib.pyplot as plt \n",
    "# La librería matplotlib se utiliza para generar gráficos y visualizaciones."
   ]
  },
  {
   "cell_type": "code",
   "execution_count": 8,
   "id": "78d8922e-0a2b-49ac-8478-c95207e8aa24",
   "metadata": {},
   "outputs": [],
   "source": [
    "# Luego, se carga un archivo csv llamado \"train.csv\" utilizando la función \"pd.read_csv\" de la librería pandas, \n",
    "# y se almacena en un DataFrame llamado \"dataset\".\n",
    "dataset = pd.read_csv('train.csv')"
   ]
  },
  {
   "cell_type": "code",
   "execution_count": 9,
   "id": "1e7d2586-4a89-4de8-b2ab-d3297768910d",
   "metadata": {},
   "outputs": [
    {
     "data": {
      "text/html": [
       "<div>\n",
       "<style scoped>\n",
       "    .dataframe tbody tr th:only-of-type {\n",
       "        vertical-align: middle;\n",
       "    }\n",
       "\n",
       "    .dataframe tbody tr th {\n",
       "        vertical-align: top;\n",
       "    }\n",
       "\n",
       "    .dataframe thead th {\n",
       "        text-align: right;\n",
       "    }\n",
       "</style>\n",
       "<table border=\"1\" class=\"dataframe\">\n",
       "  <thead>\n",
       "    <tr style=\"text-align: right;\">\n",
       "      <th></th>\n",
       "      <th>PassengerId</th>\n",
       "      <th>Survived</th>\n",
       "      <th>Pclass</th>\n",
       "      <th>Name</th>\n",
       "      <th>Sex</th>\n",
       "      <th>Age</th>\n",
       "      <th>SibSp</th>\n",
       "      <th>Parch</th>\n",
       "      <th>Ticket</th>\n",
       "      <th>Fare</th>\n",
       "      <th>Cabin</th>\n",
       "      <th>Embarked</th>\n",
       "    </tr>\n",
       "  </thead>\n",
       "  <tbody>\n",
       "    <tr>\n",
       "      <th>0</th>\n",
       "      <td>1</td>\n",
       "      <td>0</td>\n",
       "      <td>3</td>\n",
       "      <td>Braund, Mr. Owen Harris</td>\n",
       "      <td>male</td>\n",
       "      <td>22.0</td>\n",
       "      <td>1</td>\n",
       "      <td>0</td>\n",
       "      <td>A/5 21171</td>\n",
       "      <td>7.2500</td>\n",
       "      <td>NaN</td>\n",
       "      <td>S</td>\n",
       "    </tr>\n",
       "    <tr>\n",
       "      <th>1</th>\n",
       "      <td>2</td>\n",
       "      <td>1</td>\n",
       "      <td>1</td>\n",
       "      <td>Cumings, Mrs. John Bradley (Florence Briggs Th...</td>\n",
       "      <td>female</td>\n",
       "      <td>38.0</td>\n",
       "      <td>1</td>\n",
       "      <td>0</td>\n",
       "      <td>PC 17599</td>\n",
       "      <td>71.2833</td>\n",
       "      <td>C85</td>\n",
       "      <td>C</td>\n",
       "    </tr>\n",
       "    <tr>\n",
       "      <th>2</th>\n",
       "      <td>3</td>\n",
       "      <td>1</td>\n",
       "      <td>3</td>\n",
       "      <td>Heikkinen, Miss. Laina</td>\n",
       "      <td>female</td>\n",
       "      <td>26.0</td>\n",
       "      <td>0</td>\n",
       "      <td>0</td>\n",
       "      <td>STON/O2. 3101282</td>\n",
       "      <td>7.9250</td>\n",
       "      <td>NaN</td>\n",
       "      <td>S</td>\n",
       "    </tr>\n",
       "  </tbody>\n",
       "</table>\n",
       "</div>"
      ],
      "text/plain": [
       "   PassengerId  Survived  Pclass  \\\n",
       "0            1         0       3   \n",
       "1            2         1       1   \n",
       "2            3         1       3   \n",
       "\n",
       "                                                Name     Sex   Age  SibSp  \\\n",
       "0                            Braund, Mr. Owen Harris    male  22.0      1   \n",
       "1  Cumings, Mrs. John Bradley (Florence Briggs Th...  female  38.0      1   \n",
       "2                             Heikkinen, Miss. Laina  female  26.0      0   \n",
       "\n",
       "   Parch            Ticket     Fare Cabin Embarked  \n",
       "0      0         A/5 21171   7.2500   NaN        S  \n",
       "1      0          PC 17599  71.2833   C85        C  \n",
       "2      0  STON/O2. 3101282   7.9250   NaN        S  "
      ]
     },
     "execution_count": 9,
     "metadata": {},
     "output_type": "execute_result"
    }
   ],
   "source": [
    "#Luego, se muestran las primeras tres filas del DataFrame utilizando la función \"dataset.head(3)\".\n",
    "dataset.head(3)"
   ]
  },
  {
   "cell_type": "code",
   "execution_count": 10,
   "id": "1edbdfda-5440-412c-9150-5179a2b871ba",
   "metadata": {},
   "outputs": [
    {
     "data": {
      "text/html": [
       "<div>\n",
       "<style scoped>\n",
       "    .dataframe tbody tr th:only-of-type {\n",
       "        vertical-align: middle;\n",
       "    }\n",
       "\n",
       "    .dataframe tbody tr th {\n",
       "        vertical-align: top;\n",
       "    }\n",
       "\n",
       "    .dataframe thead th {\n",
       "        text-align: right;\n",
       "    }\n",
       "</style>\n",
       "<table border=\"1\" class=\"dataframe\">\n",
       "  <thead>\n",
       "    <tr style=\"text-align: right;\">\n",
       "      <th></th>\n",
       "      <th>Name</th>\n",
       "      <th>Age</th>\n",
       "      <th>Sex</th>\n",
       "      <th>Survived</th>\n",
       "    </tr>\n",
       "  </thead>\n",
       "  <tbody>\n",
       "    <tr>\n",
       "      <th>0</th>\n",
       "      <td>Braund, Mr. Owen Harris</td>\n",
       "      <td>22.0</td>\n",
       "      <td>male</td>\n",
       "      <td>0</td>\n",
       "    </tr>\n",
       "    <tr>\n",
       "      <th>1</th>\n",
       "      <td>Cumings, Mrs. John Bradley (Florence Briggs Th...</td>\n",
       "      <td>38.0</td>\n",
       "      <td>female</td>\n",
       "      <td>1</td>\n",
       "    </tr>\n",
       "    <tr>\n",
       "      <th>2</th>\n",
       "      <td>Heikkinen, Miss. Laina</td>\n",
       "      <td>26.0</td>\n",
       "      <td>female</td>\n",
       "      <td>1</td>\n",
       "    </tr>\n",
       "    <tr>\n",
       "      <th>3</th>\n",
       "      <td>Futrelle, Mrs. Jacques Heath (Lily May Peel)</td>\n",
       "      <td>35.0</td>\n",
       "      <td>female</td>\n",
       "      <td>1</td>\n",
       "    </tr>\n",
       "    <tr>\n",
       "      <th>4</th>\n",
       "      <td>Allen, Mr. William Henry</td>\n",
       "      <td>35.0</td>\n",
       "      <td>male</td>\n",
       "      <td>0</td>\n",
       "    </tr>\n",
       "  </tbody>\n",
       "</table>\n",
       "</div>"
      ],
      "text/plain": [
       "                                                Name   Age     Sex  Survived\n",
       "0                            Braund, Mr. Owen Harris  22.0    male         0\n",
       "1  Cumings, Mrs. John Bradley (Florence Briggs Th...  38.0  female         1\n",
       "2                             Heikkinen, Miss. Laina  26.0  female         1\n",
       "3       Futrelle, Mrs. Jacques Heath (Lily May Peel)  35.0  female         1\n",
       "4                           Allen, Mr. William Henry  35.0    male         0"
      ]
     },
     "execution_count": 10,
     "metadata": {},
     "output_type": "execute_result"
    }
   ],
   "source": [
    "# Después, se seleccionan cuatro columnas del DataFrame (\"Name\", \"Age\", \"Sex\" y \"Survived\")\n",
    "# utilizando la sintaxis de doble corchete y se muestran las primeras filas con la función \"head()\".\n",
    "dataset[['Name', 'Age', 'Sex', 'Survived']].head()"
   ]
  },
  {
   "cell_type": "code",
   "execution_count": 11,
   "id": "72ea0912-fa9f-43ed-9ce0-1c947ed357ae",
   "metadata": {},
   "outputs": [
    {
     "data": {
      "text/plain": [
       "<AxesSubplot:xlabel='Age', ylabel='Survived'>"
      ]
     },
     "execution_count": 11,
     "metadata": {},
     "output_type": "execute_result"
    },
    {
     "data": {
      "image/png": "[encoded data removed]",
      "text/plain": [
       "<Figure size 640x480 with 1 Axes>"
      ]
     },
     "metadata": {},
     "output_type": "display_data"
    }
   ],
   "source": [
    "# A continuación, se genera un gráfico de dispersión (scatter plot) utilizando la función \n",
    "# \"dataset[['Age','Survived']].plot.scatter('Age','Survived')\" de pandas, con la edad en el eje X \n",
    "# y la variable objetivo \"Survived\" en el eje Y.\n",
    "dataset[['Age','Survived']].plot.scatter('Age','Survived')"
   ]
  },
  {
   "cell_type": "code",
   "execution_count": 12,
   "id": "8e69a327-c54f-44c6-b3ea-9f8962ad8b41",
   "metadata": {},
   "outputs": [],
   "source": [
    "# Pruebas de parámetros\n",
    "# Luego, se define un modelo de regresión logística con los parámetros \"w\" y \"b\"\n",
    "w = 0.09\n",
    "b = -3.6"
   ]
  },
  {
   "cell_type": "code",
   "execution_count": 13,
   "id": "ef91c639-8c15-4372-9429-3c26270f2fa2",
   "metadata": {
    "jupyter": {
     "source_hidden": true
    },
    "tags": []
   },
   "outputs": [
    {
     "data": {
      "image/png": "[encoded data removed]",
      "text/plain": [
       "<Figure size 640x480 with 1 Axes>"
      ]
     },
     "metadata": {},
     "output_type": "display_data"
    }
   ],
   "source": [
    "# puntos de la recta\n",
    "\n",
    "# Se generan valores de la función sigmoide para un rango de valores de edad utilizando la función \n",
    "# \"np.linspace\". Se muestra el modelo y los puntos del gráfico anterior con la función \"plt.plot\" y \"dataset.plot.scatter\"\n",
    "x = np.linspace(0,dataset['Age'].max(),100)\n",
    "y = 1/(1+np.exp(-(w*x+b)))\n",
    "# grafica de la recta\n",
    "dataset.plot.scatter(x='Age',y='Survived')\n",
    "plt.plot(x, y, '-r')\n",
    "plt.ylim(0,dataset['Survived'].max()*1.1)\n",
    "plt.grid()\n",
    "plt.show()"
   ]
  },
  {
   "cell_type": "code",
   "execution_count": 14,
   "id": "7fd6d327-4c7d-408f-8fca-a0e069a37310",
   "metadata": {},
   "outputs": [
    {
     "data": {
      "text/plain": [
       "0.9227175379075286"
      ]
     },
     "execution_count": 14,
     "metadata": {},
     "output_type": "execute_result"
    }
   ],
   "source": [
    "# Optimización de parámetros\n",
    "# calculo de las predicciones\n",
    "\n",
    "# A continuación, se calcula la función de costo \"cost_j\" para el modelo de regresión logística utilizando \n",
    "# los datos del DataFrame \"dataset\".\n",
    "dataset['sigmoid'] = 1/(1+np.exp(-(dataset['Age']*w+b)))\n",
    "# calculo de la funcion de error\n",
    "dataset['loss_xi'] = -dataset['Survived']*np.log(dataset['sigmoid'])-(1-dataset['Survived'])*np.log(1-dataset['sigmoid'])\n",
    "cost_j = dataset['loss_xi'].mean()\n",
    "cost_j"
   ]
  },
  {
   "cell_type": "code",
   "execution_count": 15,
   "id": "195af6c4-1291-453c-91ce-652f851df802",
   "metadata": {},
   "outputs": [
    {
     "name": "stdout",
     "output_type": "stream",
     "text": [
      "          w         b  y\n",
      "0  0.876361  0.457934  0\n",
      "1 -0.456153 -0.917796  1\n",
      "2 -1.203220  0.024784  1\n",
      "3  1.173730  0.515533  1\n",
      "4  1.100167  0.049726  0\n"
     ]
    }
   ],
   "source": [
    "# Este código crea un conjunto de datos aleatorios utilizando la biblioteca NumPy y luego los convierte \n",
    "# en un objeto de DataFrame de Pandas. El conjunto de datos se compone de 100 filas y 2 columnas, donde \n",
    "# cada valor en las dos columnas es un número aleatorio generado por la función np.random.randn(). \n",
    "# El conjunto de datos tiene dos columnas con los nombres \"w\" y \"b\".\n",
    "# Luego, se agrega una tercera columna \"y\" al DataFrame utilizando la función np.random.randint(). \n",
    "# La columna \"y\" contiene valores aleatorios de 0 y 1. Finalmente, se imprimen las primeras filas del \n",
    "# DataFrame utilizando la función head() de Pandas para visualizar el conjunto de datos y verificar \n",
    "# que todo se haya creado correctamente.\n",
    "\n",
    "array = np.random.randn(100,2)\n",
    "\n",
    "# Crear dataframe con las columnas \"w\" y \"b\"\n",
    "df = pd.DataFrame(data=array, columns=['w', 'b'])\n",
    "\n",
    "# Agregar una columna \"y\" con valores aleatorios 0 o 1\n",
    "df['y'] = np.random.randint(0, 2, size=len(df))\n",
    "\n",
    "# Mostrar las primeras filas del dataframe\n",
    "print(df.head())"
   ]
  },
  {
   "cell_type": "code",
   "execution_count": 16,
   "id": "c74459a4-bf12-48e1-a39d-55fc14959bff",
   "metadata": {},
   "outputs": [
    {
     "data": {
      "text/html": [
       "<div>\n",
       "<style scoped>\n",
       "    .dataframe tbody tr th:only-of-type {\n",
       "        vertical-align: middle;\n",
       "    }\n",
       "\n",
       "    .dataframe tbody tr th {\n",
       "        vertical-align: top;\n",
       "    }\n",
       "\n",
       "    .dataframe thead th {\n",
       "        text-align: right;\n",
       "    }\n",
       "</style>\n",
       "<table border=\"1\" class=\"dataframe\">\n",
       "  <thead>\n",
       "    <tr style=\"text-align: right;\">\n",
       "      <th></th>\n",
       "      <th>w</th>\n",
       "      <th>b</th>\n",
       "      <th>y</th>\n",
       "    </tr>\n",
       "  </thead>\n",
       "  <tbody>\n",
       "    <tr>\n",
       "      <th>0</th>\n",
       "      <td>0.876361</td>\n",
       "      <td>0.457934</td>\n",
       "      <td>0</td>\n",
       "    </tr>\n",
       "    <tr>\n",
       "      <th>1</th>\n",
       "      <td>-0.456153</td>\n",
       "      <td>-0.917796</td>\n",
       "      <td>1</td>\n",
       "    </tr>\n",
       "    <tr>\n",
       "      <th>2</th>\n",
       "      <td>-1.203220</td>\n",
       "      <td>0.024784</td>\n",
       "      <td>1</td>\n",
       "    </tr>\n",
       "    <tr>\n",
       "      <th>3</th>\n",
       "      <td>1.173730</td>\n",
       "      <td>0.515533</td>\n",
       "      <td>1</td>\n",
       "    </tr>\n",
       "    <tr>\n",
       "      <th>4</th>\n",
       "      <td>1.100167</td>\n",
       "      <td>0.049726</td>\n",
       "      <td>0</td>\n",
       "    </tr>\n",
       "    <tr>\n",
       "      <th>...</th>\n",
       "      <td>...</td>\n",
       "      <td>...</td>\n",
       "      <td>...</td>\n",
       "    </tr>\n",
       "    <tr>\n",
       "      <th>95</th>\n",
       "      <td>1.380339</td>\n",
       "      <td>-1.213496</td>\n",
       "      <td>1</td>\n",
       "    </tr>\n",
       "    <tr>\n",
       "      <th>96</th>\n",
       "      <td>-0.361571</td>\n",
       "      <td>1.851990</td>\n",
       "      <td>0</td>\n",
       "    </tr>\n",
       "    <tr>\n",
       "      <th>97</th>\n",
       "      <td>-0.552990</td>\n",
       "      <td>1.907006</td>\n",
       "      <td>1</td>\n",
       "    </tr>\n",
       "    <tr>\n",
       "      <th>98</th>\n",
       "      <td>-1.963197</td>\n",
       "      <td>-0.646107</td>\n",
       "      <td>0</td>\n",
       "    </tr>\n",
       "    <tr>\n",
       "      <th>99</th>\n",
       "      <td>0.145367</td>\n",
       "      <td>0.829849</td>\n",
       "      <td>0</td>\n",
       "    </tr>\n",
       "  </tbody>\n",
       "</table>\n",
       "<p>100 rows × 3 columns</p>\n",
       "</div>"
      ],
      "text/plain": [
       "           w         b  y\n",
       "0   0.876361  0.457934  0\n",
       "1  -0.456153 -0.917796  1\n",
       "2  -1.203220  0.024784  1\n",
       "3   1.173730  0.515533  1\n",
       "4   1.100167  0.049726  0\n",
       "..       ...       ... ..\n",
       "95  1.380339 -1.213496  1\n",
       "96 -0.361571  1.851990  0\n",
       "97 -0.552990  1.907006  1\n",
       "98 -1.963197 -0.646107  0\n",
       "99  0.145367  0.829849  0\n",
       "\n",
       "[100 rows x 3 columns]"
      ]
     },
     "execution_count": 16,
     "metadata": {},
     "output_type": "execute_result"
    }
   ],
   "source": [
    "df"
   ]
  },
  {
   "cell_type": "code",
   "execution_count": 17,
   "id": "1629963c-4c05-4c58-94bd-2427142a4207",
   "metadata": {},
   "outputs": [
    {
     "name": "stdout",
     "output_type": "stream",
     "text": [
      "<class 'pandas.core.frame.DataFrame'>\n",
      "RangeIndex: 891 entries, 0 to 890\n",
      "Data columns (total 14 columns):\n",
      " #   Column       Non-Null Count  Dtype  \n",
      "---  ------       --------------  -----  \n",
      " 0   PassengerId  891 non-null    int64  \n",
      " 1   Survived     891 non-null    int64  \n",
      " 2   Pclass       891 non-null    int64  \n",
      " 3   Name         891 non-null    object \n",
      " 4   Sex          891 non-null    object \n",
      " 5   Age          714 non-null    float64\n",
      " 6   SibSp        891 non-null    int64  \n",
      " 7   Parch        891 non-null    int64  \n",
      " 8   Ticket       891 non-null    object \n",
      " 9   Fare         891 non-null    float64\n",
      " 10  Cabin        204 non-null    object \n",
      " 11  Embarked     889 non-null    object \n",
      " 12  sigmoid      714 non-null    float64\n",
      " 13  loss_xi      714 non-null    float64\n",
      "dtypes: float64(4), int64(5), object(5)\n",
      "memory usage: 97.6+ KB\n"
     ]
    }
   ],
   "source": [
    "# Luego, se muestra información del DataFrame con la función \"dataset.info()\" y estadísticas descriptivas \n",
    "# con la función \"dataset.describe()\".\n",
    "dataset.info()"
   ]
  },
  {
   "cell_type": "code",
   "execution_count": 18,
   "id": "629a6438-2638-4524-be0c-a07d887cf4b2",
   "metadata": {},
   "outputs": [
    {
     "data": {
      "text/html": [
       "<div>\n",
       "<style scoped>\n",
       "    .dataframe tbody tr th:only-of-type {\n",
       "        vertical-align: middle;\n",
       "    }\n",
       "\n",
       "    .dataframe tbody tr th {\n",
       "        vertical-align: top;\n",
       "    }\n",
       "\n",
       "    .dataframe thead th {\n",
       "        text-align: right;\n",
       "    }\n",
       "</style>\n",
       "<table border=\"1\" class=\"dataframe\">\n",
       "  <thead>\n",
       "    <tr style=\"text-align: right;\">\n",
       "      <th></th>\n",
       "      <th>PassengerId</th>\n",
       "      <th>Survived</th>\n",
       "      <th>Pclass</th>\n",
       "      <th>Age</th>\n",
       "      <th>SibSp</th>\n",
       "      <th>Parch</th>\n",
       "      <th>Fare</th>\n",
       "      <th>sigmoid</th>\n",
       "      <th>loss_xi</th>\n",
       "    </tr>\n",
       "  </thead>\n",
       "  <tbody>\n",
       "    <tr>\n",
       "      <th>count</th>\n",
       "      <td>891.000000</td>\n",
       "      <td>891.000000</td>\n",
       "      <td>891.000000</td>\n",
       "      <td>714.000000</td>\n",
       "      <td>891.000000</td>\n",
       "      <td>891.000000</td>\n",
       "      <td>891.000000</td>\n",
       "      <td>714.000000</td>\n",
       "      <td>714.000000</td>\n",
       "    </tr>\n",
       "    <tr>\n",
       "      <th>mean</th>\n",
       "      <td>446.000000</td>\n",
       "      <td>0.383838</td>\n",
       "      <td>2.308642</td>\n",
       "      <td>29.699118</td>\n",
       "      <td>0.523008</td>\n",
       "      <td>0.381594</td>\n",
       "      <td>32.204208</td>\n",
       "      <td>0.325479</td>\n",
       "      <td>0.922718</td>\n",
       "    </tr>\n",
       "    <tr>\n",
       "      <th>std</th>\n",
       "      <td>257.353842</td>\n",
       "      <td>0.486592</td>\n",
       "      <td>0.836071</td>\n",
       "      <td>14.526497</td>\n",
       "      <td>1.102743</td>\n",
       "      <td>0.806057</td>\n",
       "      <td>49.693429</td>\n",
       "      <td>0.233778</td>\n",
       "      <td>0.880717</td>\n",
       "    </tr>\n",
       "    <tr>\n",
       "      <th>min</th>\n",
       "      <td>1.000000</td>\n",
       "      <td>0.000000</td>\n",
       "      <td>1.000000</td>\n",
       "      <td>0.420000</td>\n",
       "      <td>0.000000</td>\n",
       "      <td>0.000000</td>\n",
       "      <td>0.000000</td>\n",
       "      <td>0.027593</td>\n",
       "      <td>0.026957</td>\n",
       "    </tr>\n",
       "    <tr>\n",
       "      <th>25%</th>\n",
       "      <td>223.500000</td>\n",
       "      <td>0.000000</td>\n",
       "      <td>2.000000</td>\n",
       "      <td>20.125000</td>\n",
       "      <td>0.000000</td>\n",
       "      <td>0.000000</td>\n",
       "      <td>7.910400</td>\n",
       "      <td>0.143243</td>\n",
       "      <td>0.230509</td>\n",
       "    </tr>\n",
       "    <tr>\n",
       "      <th>50%</th>\n",
       "      <td>446.000000</td>\n",
       "      <td>0.000000</td>\n",
       "      <td>3.000000</td>\n",
       "      <td>28.000000</td>\n",
       "      <td>0.000000</td>\n",
       "      <td>0.000000</td>\n",
       "      <td>14.454200</td>\n",
       "      <td>0.253506</td>\n",
       "      <td>0.607192</td>\n",
       "    </tr>\n",
       "    <tr>\n",
       "      <th>75%</th>\n",
       "      <td>668.500000</td>\n",
       "      <td>1.000000</td>\n",
       "      <td>3.000000</td>\n",
       "      <td>38.000000</td>\n",
       "      <td>1.000000</td>\n",
       "      <td>0.000000</td>\n",
       "      <td>31.000000</td>\n",
       "      <td>0.455121</td>\n",
       "      <td>1.372368</td>\n",
       "    </tr>\n",
       "    <tr>\n",
       "      <th>max</th>\n",
       "      <td>891.000000</td>\n",
       "      <td>1.000000</td>\n",
       "      <td>3.000000</td>\n",
       "      <td>80.000000</td>\n",
       "      <td>8.000000</td>\n",
       "      <td>6.000000</td>\n",
       "      <td>512.329200</td>\n",
       "      <td>0.973403</td>\n",
       "      <td>3.590181</td>\n",
       "    </tr>\n",
       "  </tbody>\n",
       "</table>\n",
       "</div>"
      ],
      "text/plain": [
       "       PassengerId    Survived      Pclass         Age       SibSp  \\\n",
       "count   891.000000  891.000000  891.000000  714.000000  891.000000   \n",
       "mean    446.000000    0.383838    2.308642   29.699118    0.523008   \n",
       "std     257.353842    0.486592    0.836071   14.526497    1.102743   \n",
       "min       1.000000    0.000000    1.000000    0.420000    0.000000   \n",
       "25%     223.500000    0.000000    2.000000   20.125000    0.000000   \n",
       "50%     446.000000    0.000000    3.000000   28.000000    0.000000   \n",
       "75%     668.500000    1.000000    3.000000   38.000000    1.000000   \n",
       "max     891.000000    1.000000    3.000000   80.000000    8.000000   \n",
       "\n",
       "            Parch        Fare     sigmoid     loss_xi  \n",
       "count  891.000000  891.000000  714.000000  714.000000  \n",
       "mean     0.381594   32.204208    0.325479    0.922718  \n",
       "std      0.806057   49.693429    0.233778    0.880717  \n",
       "min      0.000000    0.000000    0.027593    0.026957  \n",
       "25%      0.000000    7.910400    0.143243    0.230509  \n",
       "50%      0.000000   14.454200    0.253506    0.607192  \n",
       "75%      0.000000   31.000000    0.455121    1.372368  \n",
       "max      6.000000  512.329200    0.973403    3.590181  "
      ]
     },
     "execution_count": 18,
     "metadata": {},
     "output_type": "execute_result"
    }
   ],
   "source": [
    "#La función \"dataset.describe()\" se utiliza para obtener estadísticas descriptivas de las variables numéricas del DataFrame\n",
    "# como la media, la desviación estándar, el mínimo, el máximo, entre otros.\n",
    "\n",
    "dataset.describe()"
   ]
  },
  {
   "cell_type": "code",
   "execution_count": 19,
   "id": "ea3f27e7-17a0-42ff-9010-d65713717cd5",
   "metadata": {},
   "outputs": [
    {
     "data": {
      "image/png": "[encoded data removed]",
      "text/plain": [
       "<Figure size 640x480 with 1 Axes>"
      ]
     },
     "metadata": {},
     "output_type": "display_data"
    }
   ],
   "source": [
    "# Por último, se genera un histograma de la variable \"Age\" utilizando la función \"dataset['Age'].hist(bins=20)\" de pandas, \n",
    "# con 20 intervalos, y se agrega etiquetas a los ejes con las funciones \"plt.xlabel\" y \"plt.ylabel\".\n",
    "# Finalmente, se muestra el gráfico utilizando la función \"plt.show()\".\n",
    "\n",
    "dataset[\"Age\"].hist(bins=20)\n",
    "plt.xlabel(\"Age\")\n",
    "plt.ylabel(\"Count\")\n",
    "plt.show()"
   ]
  },
  {
   "cell_type": "code",
   "execution_count": 20,
   "id": "fdf0e5f3-1410-4f73-9239-685b3d283274",
   "metadata": {},
   "outputs": [
    {
     "data": {
      "image/png": "[encoded data removed]",
      "text/plain": [
       "<Figure size 640x480 with 1 Axes>"
      ]
     },
     "metadata": {},
     "output_type": "display_data"
    }
   ],
   "source": [
    "# Luego se genera un gráfico de barras que muestra el número de casos de sobrevivientes y no sobrevivientes\n",
    "# en el conjunto de datos.\n",
    "\n",
    "# Primero, se utiliza la función \"value_counts\" de pandas para contar los valores únicos de la columna \n",
    "# \"Survived\" del DataFrame \"dataset\" y se almacenan en la variable \"survived_counts\".\n",
    "\n",
    "# Luego, se utiliza la función \"plt.bar\" de la librería matplotlib para crear un gráfico de barras, \n",
    "# donde el eje X corresponde a los índices de \"survived_counts\" (que son los valores únicos de \"Survived\", es decir, 0 y 1),\n",
    "# y el eje Y corresponde al número de casos de cada valor.\n",
    "\n",
    "# La función \"plt.xticks\" se utiliza para cambiar los nombres de las etiquetas del eje X a \"Not Survived\" y \"Survived\" \n",
    "# en lugar de los valores numéricos originales.\n",
    "\n",
    "# La función \"plt.ylabel\" establece una etiqueta para el eje Y y la función \"plt.show\" muestra el gráfico.\n",
    "\n",
    "survived_counts = dataset[\"Survived\"].value_counts()\n",
    "plt.bar(survived_counts.index, survived_counts.values)\n",
    "plt.xticks([0, 1], [\"No Sobrevivieron\", \"Sobrevivieron\"])\n",
    "plt.ylabel(\"Count\")\n",
    "\n",
    "# Agregar el valor de cada barra en el gráfico\n",
    "for i, v in enumerate(survived_counts.values):\n",
    "    plt.text(i, v, str(v), color='blue', fontweight='bold', ha='center', va='bottom')\n",
    "    \n",
    "plt.show()"
   ]
  }
 ],
 "metadata": {
  "kernelspec": {
   "display_name": "Python 3 (ipykernel)",
   "language": "python",
   "name": "python3"
  },
  "language_info": {
   "codemirror_mode": {
    "name": "ipython",
    "version": 3
   },
   "file_extension": ".py",
   "mimetype": "text/x-python",
   "name": "python",
   "nbconvert_exporter": "python",
   "pygments_lexer": "ipython3",
   "version": "3.9.13"
  }
 },
 "nbformat": 4,
 "nbformat_minor": 5
}
